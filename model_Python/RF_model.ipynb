{
 "cells": [
  {
   "cell_type": "code",
   "execution_count": 1,
   "metadata": {
    "collapsed": true
   },
   "outputs": [],
   "source": [
    "# Modules\n",
    "import os\n",
    "import pandas as pd\n",
    "import numpy as np\n",
    "import matplotlib.pyplot as plt\n",
    "\n",
    "from sklearn import preprocessing\n",
    "from imblearn.under_sampling import RandomUnderSampler\n",
    "from collections import Counter\n",
    "from sklearn.cross_validation import train_test_split\n",
    "from sklearn import metrics\n",
    "from sklearn import cross_validation\n",
    "\n",
    "from sklearn.ensemble import RandomForestClassifier\n",
    "from sklearn.feature_selection import RFECV"
   ]
  },
  {
   "cell_type": "code",
   "execution_count": 2,
   "metadata": {
    "collapsed": false
   },
   "outputs": [
    {
     "name": "stdout",
     "output_type": "stream",
     "text": [
      "0.17.1\n"
     ]
    }
   ],
   "source": [
    "import sklearn\n",
    "print sklearn.__version__\n",
    "#print('Xyz {}'.format(sklearn.__version__))\n",
    "#print(.format(pikle.__version__))"
   ]
  },
  {
   "cell_type": "code",
   "execution_count": null,
   "metadata": {
    "collapsed": true
   },
   "outputs": [],
   "source": []
  },
  {
   "cell_type": "code",
   "execution_count": 3,
   "metadata": {
    "collapsed": true
   },
   "outputs": [],
   "source": [
    "# Import Dataset\n",
    "Data = pd.read_csv('Data_11symp_5cl.csv')\n",
    "Data.shape\n",
    "\n",
    "# Lower features\n",
    "Data.columns = map(str.lower, Data.columns)"
   ]
  },
  {
   "cell_type": "code",
   "execution_count": 4,
   "metadata": {
    "collapsed": false
   },
   "outputs": [
    {
     "data": {
      "text/plain": [
       "['id',\n",
       " 'state',\n",
       " 'age_yrs',\n",
       " 'died',\n",
       " 'er_visit',\n",
       " 'numdays',\n",
       " 'sex_f',\n",
       " 'sex_m',\n",
       " 'sex_u',\n",
       " 'poliovirus_combos',\n",
       " 'haemophilus_influenza_b',\n",
       " 'hepatitis',\n",
       " 'human_papillovirus',\n",
       " 'japanese_encephalitis',\n",
       " 'lyme.disease',\n",
       " 'measles',\n",
       " 'meningococcal_meningitis',\n",
       " 'measles.rubella',\n",
       " 'measles.mumps.rubella',\n",
       " 'mumps',\n",
       " 'adenovirus',\n",
       " 'pertussis',\n",
       " 'plague',\n",
       " 'pneumonia',\n",
       " 'rabies',\n",
       " 'rubella',\n",
       " 'rotavirus',\n",
       " 'small_pox',\n",
       " 'seasonal_encephalitis',\n",
       " 'tick.borne_encephalitis',\n",
       " 'typhoid',\n",
       " 'anthrax',\n",
       " 'varicella',\n",
       " 'herpes',\n",
       " 'yellow_fever',\n",
       " 'bacillus_calmette_guerin',\n",
       " 'cholera',\n",
       " 'diphtheria.tetanus.pertussis',\n",
       " 'pandemic_influenza',\n",
       " 'seasonal_influenza',\n",
       " 'hib_combos',\n",
       " 'pv_repeats',\n",
       " 'hib_repeats',\n",
       " 'hep_repeats',\n",
       " 'hpv_repeats',\n",
       " 'japenc_repeats',\n",
       " 'lymedis_repeats',\n",
       " 'measles_repeats',\n",
       " 'mening_repeats',\n",
       " 'mr_repeats',\n",
       " 'mmr_repeats',\n",
       " 'mu_repeats',\n",
       " 'adn_repeats',\n",
       " 'pert_repeats',\n",
       " 'plag_repeats',\n",
       " 'pneum_repeats',\n",
       " 'rab_repeats',\n",
       " 'rub_repeats',\n",
       " 'rota_repeats',\n",
       " 'smallpox_repeats',\n",
       " 'seasenc_repeats',\n",
       " 'tbe_repeats',\n",
       " 'typh_repeats',\n",
       " 'anth_repeats',\n",
       " 'vari_repeats',\n",
       " 'herp_repeats',\n",
       " 'yf_repeats',\n",
       " 'bcg_repeats',\n",
       " 'chol_repeats',\n",
       " 'dtp_repeats',\n",
       " 'paninfl_repeats',\n",
       " 'seasinfl_repeats',\n",
       " 'hib_combos_repeats',\n",
       " 'class']"
      ]
     },
     "execution_count": 4,
     "metadata": {},
     "output_type": "execute_result"
    }
   ],
   "source": [
    "list(Data.columns)"
   ]
  },
  {
   "cell_type": "code",
   "execution_count": 5,
   "metadata": {
    "collapsed": false
   },
   "outputs": [
    {
     "data": {
      "text/plain": [
       "False"
      ]
     },
     "execution_count": 5,
     "metadata": {},
     "output_type": "execute_result"
    }
   ],
   "source": [
    "# Drop NA Values and Checkpoint\n",
    "Data = Data.dropna()\n",
    "Data.isnull().values.any()"
   ]
  },
  {
   "cell_type": "code",
   "execution_count": 6,
   "metadata": {
    "collapsed": false
   },
   "outputs": [
    {
     "data": {
      "text/plain": [
       "(303429, 74)"
      ]
     },
     "execution_count": 6,
     "metadata": {},
     "output_type": "execute_result"
    }
   ],
   "source": [
    "Data.shape"
   ]
  },
  {
   "cell_type": "code",
   "execution_count": 7,
   "metadata": {
    "collapsed": true
   },
   "outputs": [],
   "source": [
    "Data.to_csv('Data_303429.csv')"
   ]
  },
  {
   "cell_type": "code",
   "execution_count": 8,
   "metadata": {
    "collapsed": true
   },
   "outputs": [],
   "source": [
    "Data_x = Data.iloc[:,2:73]"
   ]
  },
  {
   "cell_type": "code",
   "execution_count": 9,
   "metadata": {
    "collapsed": true
   },
   "outputs": [],
   "source": [
    "# Normalisation\n",
    "min_max_scaler = preprocessing.MinMaxScaler()\n",
    "Data_x_scaled = min_max_scaler.fit_transform(Data_x)\n",
    "Data_x_norm = pd.DataFrame(Data_x_scaled)\n",
    "Data_x_norm.columns = Data_x.columns\n",
    "\n"
   ]
  },
  {
   "cell_type": "code",
   "execution_count": 10,
   "metadata": {
    "collapsed": false
   },
   "outputs": [],
   "source": [
    "Data_y = Data['class']"
   ]
  },
  {
   "cell_type": "code",
   "execution_count": 11,
   "metadata": {
    "collapsed": true
   },
   "outputs": [],
   "source": [
    "# Apply the random under-sampling from imbalanced-learn\n",
    "rus = RandomUnderSampler()\n",
    "Data_x_balanced, Data_y_balanced = rus.fit_sample(Data_x, Data_y)"
   ]
  },
  {
   "cell_type": "code",
   "execution_count": 12,
   "metadata": {
    "collapsed": false
   },
   "outputs": [
    {
     "data": {
      "text/plain": [
       "Counter({1: 19238, 2: 19238, 3: 19238, 4: 19238, 5: 19238})"
      ]
     },
     "execution_count": 12,
     "metadata": {},
     "output_type": "execute_result"
    }
   ],
   "source": [
    "Counter(Data_y_balanced)"
   ]
  },
  {
   "cell_type": "code",
   "execution_count": 13,
   "metadata": {
    "collapsed": false
   },
   "outputs": [],
   "source": [
    "# Random Forest Model (feature selection RFE)\n",
    "rfc = RandomForestClassifier()\n",
    "selector = RFECV(rfc, step=1, cv=5)\n",
    "selector = selector.fit(Data_x_balanced, Data_y_balanced)"
   ]
  },
  {
   "cell_type": "code",
   "execution_count": 14,
   "metadata": {
    "collapsed": false
   },
   "outputs": [
    {
     "name": "stdout",
     "output_type": "stream",
     "text": [
      "[ True False  True  True  True  True False  True False  True False False\n",
      " False False  True False  True False False False False False False False\n",
      " False False False False False False  True False False False False  True\n",
      " False  True False  True  True  True  True False False False  True False\n",
      "  True False False False False  True False False  True False False False\n",
      "  True  True  True  True False False False  True False  True  True]\n"
     ]
    }
   ],
   "source": [
    "print selector.support_"
   ]
  },
  {
   "cell_type": "code",
   "execution_count": 15,
   "metadata": {
    "collapsed": false
   },
   "outputs": [
    {
     "data": {
      "text/plain": [
       "RFECV(cv=5,\n",
       "   estimator=RandomForestClassifier(bootstrap=True, class_weight=None, criterion='gini',\n",
       "            max_depth=None, max_features='auto', max_leaf_nodes=None,\n",
       "            min_samples_leaf=1, min_samples_split=2,\n",
       "            min_weight_fraction_leaf=0.0, n_estimators=10, n_jobs=1,\n",
       "            oob_score=False, random_state=None, verbose=0,\n",
       "            warm_start=False),\n",
       "   estimator_params=None, scoring=None, step=1, verbose=0)"
      ]
     },
     "execution_count": 15,
     "metadata": {},
     "output_type": "execute_result"
    }
   ],
   "source": [
    "selector"
   ]
  },
  {
   "cell_type": "code",
   "execution_count": 27,
   "metadata": {
    "collapsed": false
   },
   "outputs": [
    {
     "name": "stdout",
     "output_type": "stream",
     "text": [
      "[ 1  1  1  1  1  1  1  1  1  1  1  9 12 15  1 19  1 23 26 25 30  1 10 14  1\n",
      "  7 32 29  1  2  1  4  3 27 24  1  5  1  1  1  1  1  1 13  6 11  1 16  1 17\n",
      " 22 21 31  1  1  8  1  1 33 28  1  1  1  1  1 20 18  1  1  1  1]\n"
     ]
    }
   ],
   "source": [
    "print selector.ranking_"
   ]
  },
  {
   "cell_type": "code",
   "execution_count": 16,
   "metadata": {
    "collapsed": false
   },
   "outputs": [
    {
     "name": "stdout",
     "output_type": "stream",
     "text": [
      "Optimal number of features : 27\n"
     ]
    }
   ],
   "source": [
    "print(\"Optimal number of features : %d\" % selector.n_features_)"
   ]
  },
  {
   "cell_type": "code",
   "execution_count": 17,
   "metadata": {
    "collapsed": false
   },
   "outputs": [
    {
     "name": "stdout",
     "output_type": "stream",
     "text": [
      "Index([u'age_yrs', u'died', u'er_visit', u'numdays', u'sex_f', u'sex_m',\n",
      "       u'sex_u', u'poliovirus_combos', u'haemophilus_influenza_b',\n",
      "       u'hepatitis', u'human_papillovirus', u'japanese_encephalitis',\n",
      "       u'lyme.disease', u'measles', u'meningococcal_meningitis',\n",
      "       u'measles.rubella', u'measles.mumps.rubella', u'mumps', u'adenovirus',\n",
      "       u'pertussis', u'plague', u'pneumonia', u'rabies', u'rubella',\n",
      "       u'rotavirus', u'small_pox', u'seasonal_encephalitis',\n",
      "       u'tick.borne_encephalitis', u'typhoid', u'anthrax', u'varicella',\n",
      "       u'herpes', u'yellow_fever', u'bacillus_calmette_guerin', u'cholera',\n",
      "       u'diphtheria.tetanus.pertussis', u'pandemic_influenza',\n",
      "       u'seasonal_influenza', u'hib_combos', u'pv_repeats', u'hib_repeats',\n",
      "       u'hep_repeats', u'hpv_repeats', u'japenc_repeats', u'lymedis_repeats',\n",
      "       u'measles_repeats', u'mening_repeats', u'mr_repeats', u'mmr_repeats',\n",
      "       u'mu_repeats', u'adn_repeats', u'pert_repeats', u'plag_repeats',\n",
      "       u'pneum_repeats', u'rab_repeats', u'rub_repeats', u'rota_repeats',\n",
      "       u'smallpox_repeats', u'seasenc_repeats', u'tbe_repeats',\n",
      "       u'typh_repeats', u'anth_repeats', u'vari_repeats', u'herp_repeats',\n",
      "       u'yf_repeats', u'bcg_repeats', u'chol_repeats', u'dtp_repeats',\n",
      "       u'paninfl_repeats', u'seasinfl_repeats', u'hib_combos_repeats'],\n",
      "      dtype='object')\n"
     ]
    }
   ],
   "source": [
    "# Transform the balanced Dataset \n",
    "from pandas import DataFrame\n",
    "col = Data_x.columns\n",
    "print col\n",
    "Data_x_balanced.shape\n",
    "Data_x_new = pd.DataFrame(data=Data_x_balanced, columns=col)"
   ]
  },
  {
   "cell_type": "code",
   "execution_count": 18,
   "metadata": {
    "collapsed": true
   },
   "outputs": [],
   "source": [
    "Data_x_new2 = selector.transform(Data_x_new)"
   ]
  },
  {
   "cell_type": "code",
   "execution_count": 19,
   "metadata": {
    "collapsed": false
   },
   "outputs": [
    {
     "data": {
      "text/plain": [
       "(96190, 27)"
      ]
     },
     "execution_count": 19,
     "metadata": {},
     "output_type": "execute_result"
    }
   ],
   "source": [
    "Data_x_new2.shape"
   ]
  },
  {
   "cell_type": "code",
   "execution_count": 20,
   "metadata": {
    "collapsed": true
   },
   "outputs": [],
   "source": [
    "sel = selector.ranking_\n",
    "col2 = []\n",
    "for i in range(0, len(sel)):\n",
    "    if sel[i] == 1:\n",
    "        col2.append(col[i])\n",
    "col2 # only column names of selected features\n",
    "## Create new Dataset ##\n",
    "Data_x_new2 = pd.DataFrame(data=Data_x_new2, columns=col2)"
   ]
  },
  {
   "cell_type": "code",
   "execution_count": 21,
   "metadata": {
    "collapsed": false
   },
   "outputs": [
    {
     "data": {
      "text/plain": [
       "['age_yrs',\n",
       " 'er_visit',\n",
       " 'numdays',\n",
       " 'sex_f',\n",
       " 'sex_m',\n",
       " 'poliovirus_combos',\n",
       " 'hepatitis',\n",
       " 'meningococcal_meningitis',\n",
       " 'measles.mumps.rubella',\n",
       " 'varicella',\n",
       " 'diphtheria.tetanus.pertussis',\n",
       " 'seasonal_influenza',\n",
       " 'pv_repeats',\n",
       " 'hib_repeats',\n",
       " 'hep_repeats',\n",
       " 'hpv_repeats',\n",
       " 'mening_repeats',\n",
       " 'mmr_repeats',\n",
       " 'pneum_repeats',\n",
       " 'rota_repeats',\n",
       " 'typh_repeats',\n",
       " 'anth_repeats',\n",
       " 'vari_repeats',\n",
       " 'herp_repeats',\n",
       " 'dtp_repeats',\n",
       " 'seasinfl_repeats',\n",
       " 'hib_combos_repeats']"
      ]
     },
     "execution_count": 21,
     "metadata": {},
     "output_type": "execute_result"
    }
   ],
   "source": [
    "col2"
   ]
  },
  {
   "cell_type": "code",
   "execution_count": 22,
   "metadata": {
    "collapsed": false
   },
   "outputs": [],
   "source": [
    "#del Data_x_new2['yf_repeats']\n",
    "#del Data_x_new2['smallpox_repeats']\n",
    "#del Data_x_new2['rab_repeats']\n",
    "#del Data_x_new2['paninfl_repeats']\n",
    "del Data_x_new2['hib_repeats']\n",
    "del Data_x_new2['hpv_repeats']\n",
    "del Data_x_new2['pneum_repeats']\n",
    "del Data_x_new2['rota_repeats']\n",
    "del Data_x_new2['typh_repeats']\n",
    "del Data_x_new2['anth_repeats']\n",
    "del Data_x_new2['herp_repeats']\n",
    "del Data_x_new2['hib_combos_repeats']"
   ]
  },
  {
   "cell_type": "code",
   "execution_count": 23,
   "metadata": {
    "collapsed": false
   },
   "outputs": [
    {
     "data": {
      "text/plain": [
       "(96190, 19)"
      ]
     },
     "execution_count": 23,
     "metadata": {},
     "output_type": "execute_result"
    }
   ],
   "source": [
    "Data_x_new2.shape"
   ]
  },
  {
   "cell_type": "code",
   "execution_count": 24,
   "metadata": {
    "collapsed": false
   },
   "outputs": [
    {
     "data": {
      "text/plain": [
       "Index([u'age_yrs', u'er_visit', u'numdays', u'sex_f', u'sex_m',\n",
       "       u'poliovirus_combos', u'hepatitis', u'meningococcal_meningitis',\n",
       "       u'measles.mumps.rubella', u'varicella', u'diphtheria.tetanus.pertussis',\n",
       "       u'seasonal_influenza', u'pv_repeats', u'hep_repeats', u'mening_repeats',\n",
       "       u'mmr_repeats', u'vari_repeats', u'dtp_repeats', u'seasinfl_repeats'],\n",
       "      dtype='object')"
      ]
     },
     "execution_count": 24,
     "metadata": {},
     "output_type": "execute_result"
    }
   ],
   "source": [
    "Data_x_new2.columns"
   ]
  },
  {
   "cell_type": "code",
   "execution_count": 37,
   "metadata": {
    "collapsed": true
   },
   "outputs": [],
   "source": [
    "# Save Data with Selected Features\n",
    "Data_x_new2.to_csv('Data_SelectedFeatures_notnorm.csv')"
   ]
  },
  {
   "cell_type": "code",
   "execution_count": 25,
   "metadata": {
    "collapsed": false
   },
   "outputs": [
    {
     "data": {
      "text/plain": [
       "(96190,)"
      ]
     },
     "execution_count": 25,
     "metadata": {},
     "output_type": "execute_result"
    }
   ],
   "source": [
    "Data_y_balanced.shape"
   ]
  },
  {
   "cell_type": "code",
   "execution_count": 39,
   "metadata": {
    "collapsed": false
   },
   "outputs": [],
   "source": [
    "# Save corresponding Classes\n",
    "Data_y_balanced = pd.DataFrame(data=Data_y_balanced)\n",
    "Data_y_balanced.to_csv('Data_Classes.csv')"
   ]
  },
  {
   "cell_type": "code",
   "execution_count": 3,
   "metadata": {
    "collapsed": false
   },
   "outputs": [
    {
     "data": {
      "text/plain": [
       "array([[    0,     5],\n",
       "       [    1,     5],\n",
       "       [    2,     5],\n",
       "       ..., \n",
       "       [96187,     4],\n",
       "       [96188,     4],\n",
       "       [96189,     4]])"
      ]
     },
     "execution_count": 3,
     "metadata": {},
     "output_type": "execute_result"
    }
   ],
   "source": [
    "# Import Datasets\n",
    "#Data_x_new2 = pd.read_csv('Data_SelectedFeatures_notnorm.csv')\n",
    "#Data_x_new2 = Data_x_new2.iloc[:,1:35]\n",
    "#Data_x_new2.columns\n",
    "Data_y_balanced = pd.read_csv('Data_Classes.csv')\n",
    "Data_y_balanced.values"
   ]
  },
  {
   "cell_type": "code",
   "execution_count": 26,
   "metadata": {
    "collapsed": false
   },
   "outputs": [
    {
     "data": {
      "text/plain": [
       "(24048, 19)"
      ]
     },
     "execution_count": 26,
     "metadata": {},
     "output_type": "execute_result"
    }
   ],
   "source": [
    "# Train / Test Split\n",
    "train_x, test_x, train_y, test_y = train_test_split(Data_x_new2, Data_y_balanced, test_size = 0.25)\n",
    "train_x.shape # 72142 patients \"observations\" and 34 features\n",
    "test_x.shape #  24048 patients \"observations\" and 34 features"
   ]
  },
  {
   "cell_type": "code",
   "execution_count": 27,
   "metadata": {
    "collapsed": false
   },
   "outputs": [
    {
     "data": {
      "text/plain": [
       "Index([u'age_yrs', u'er_visit', u'numdays', u'sex_f', u'sex_m',\n",
       "       u'poliovirus_combos', u'hepatitis', u'meningococcal_meningitis',\n",
       "       u'measles.mumps.rubella', u'varicella', u'diphtheria.tetanus.pertussis',\n",
       "       u'seasonal_influenza', u'pv_repeats', u'hep_repeats', u'mening_repeats',\n",
       "       u'mmr_repeats', u'vari_repeats', u'dtp_repeats', u'seasinfl_repeats'],\n",
       "      dtype='object')"
      ]
     },
     "execution_count": 27,
     "metadata": {},
     "output_type": "execute_result"
    }
   ],
   "source": [
    "train_x.columns"
   ]
  },
  {
   "cell_type": "code",
   "execution_count": 28,
   "metadata": {
    "collapsed": false,
    "scrolled": true
   },
   "outputs": [
    {
     "data": {
      "text/plain": [
       "RandomForestClassifier(bootstrap=True, class_weight=None, criterion='gini',\n",
       "            max_depth=100, max_features='auto', max_leaf_nodes=None,\n",
       "            min_samples_leaf=1, min_samples_split=2,\n",
       "            min_weight_fraction_leaf=0.0, n_estimators=200, n_jobs=1,\n",
       "            oob_score=False, random_state=None, verbose=0,\n",
       "            warm_start=False)"
      ]
     },
     "execution_count": 28,
     "metadata": {},
     "output_type": "execute_result"
    }
   ],
   "source": [
    "rfc = RandomForestClassifier(n_estimators=200, max_depth=100, max_features='auto', min_samples_leaf = 1)\n",
    "#scores = cross_validation.cross_val_score(rfc, train_x, train_y, cv=5)\n",
    "rfc.fit(train_x, train_y)"
   ]
  },
  {
   "cell_type": "code",
   "execution_count": 14,
   "metadata": {
    "collapsed": false
   },
   "outputs": [],
   "source": [
    "# Pickle my Model {pickle}\n",
    "import gzip\n",
    "import cPickle as pickle\n",
    "output = gzip.GzipFile('rfc.p', 'wb')            \n",
    "#output = open('rfc.p', 'wb')\n",
    "pickle.dump(rfc, output)\n",
    "output.close()\n",
    "\n",
    "# To unpickle later\n",
    "#rfc = pickle.load(open('rfc.p', 'rb'))\n"
   ]
  },
  {
   "cell_type": "code",
   "execution_count": 13,
   "metadata": {
    "collapsed": false
   },
   "outputs": [
    {
     "name": "stdout",
     "output_type": "stream",
     "text": [
      "1.71\n"
     ]
    }
   ],
   "source": [
    "print pickle.__version__\n",
    "#print sklearn.__version__"
   ]
  },
  {
   "cell_type": "code",
   "execution_count": 36,
   "metadata": {
    "collapsed": false
   },
   "outputs": [
    {
     "ename": "NameError",
     "evalue": "name 'scores' is not defined",
     "output_type": "error",
     "traceback": [
      "\u001b[0;31m---------------------------------------------------------------------------\u001b[0m",
      "\u001b[0;31mNameError\u001b[0m                                 Traceback (most recent call last)",
      "\u001b[0;32m<ipython-input-36-95ee8bee4527>\u001b[0m in \u001b[0;36m<module>\u001b[0;34m()\u001b[0m\n\u001b[0;32m----> 1\u001b[0;31m \u001b[0;32mprint\u001b[0m\u001b[0;34m(\u001b[0m\u001b[0;34m\"5-fold CV Train Accuracy: %0.3f (+/- %0.3f)\"\u001b[0m \u001b[0;34m%\u001b[0m \u001b[0;34m(\u001b[0m\u001b[0mscores\u001b[0m\u001b[0;34m.\u001b[0m\u001b[0mmean\u001b[0m\u001b[0;34m(\u001b[0m\u001b[0;34m)\u001b[0m\u001b[0;34m,\u001b[0m \u001b[0mscores\u001b[0m\u001b[0;34m.\u001b[0m\u001b[0mstd\u001b[0m\u001b[0;34m(\u001b[0m\u001b[0;34m)\u001b[0m \u001b[0;34m*\u001b[0m \u001b[0;36m2\u001b[0m\u001b[0;34m)\u001b[0m\u001b[0;34m)\u001b[0m\u001b[0;34m\u001b[0m\u001b[0m\n\u001b[0m",
      "\u001b[0;31mNameError\u001b[0m: name 'scores' is not defined"
     ]
    }
   ],
   "source": [
    "#print(\"5-fold CV Train Accuracy: %0.3f (+/- %0.3f)\" % (scores.mean(), scores.std() * 2))"
   ]
  },
  {
   "cell_type": "code",
   "execution_count": 29,
   "metadata": {
    "collapsed": true
   },
   "outputs": [],
   "source": [
    "preds_rfc = rfc.predict(test_x)"
   ]
  },
  {
   "cell_type": "code",
   "execution_count": 30,
   "metadata": {
    "collapsed": false
   },
   "outputs": [
    {
     "name": "stdout",
     "output_type": "stream",
     "text": [
      "Test Accuracy: 0.386\n"
     ]
    }
   ],
   "source": [
    "print (\"Test Accuracy: %0.3f\" % metrics.accuracy_score(test_y, preds_rfc)) "
   ]
  },
  {
   "cell_type": "code",
   "execution_count": 31,
   "metadata": {
    "collapsed": false
   },
   "outputs": [
    {
     "name": "stdout",
     "output_type": "stream",
     "text": [
      "0.384892129495\n"
     ]
    },
    {
     "name": "stderr",
     "output_type": "stream",
     "text": [
      "/Users/fabienplisson/anaconda/lib/python2.7/site-packages/sklearn/metrics/classification.py:756: DeprecationWarning: The default `weighted` averaging is deprecated, and from version 0.18, use of precision, recall or F-score with multiclass or multilabel data or pos_label=None will result in an exception. Please set an explicit value for `average`, one of (None, 'micro', 'macro', 'weighted', 'samples'). In cross validation use, for instance, scoring=\"f1_weighted\" instead of scoring=\"f1\".\n",
      "  sample_weight=sample_weight)\n"
     ]
    }
   ],
   "source": [
    "print(metrics.f1_score(test_y, preds_rfc))"
   ]
  },
  {
   "cell_type": "code",
   "execution_count": 64,
   "metadata": {
    "collapsed": false
   },
   "outputs": [
    {
     "name": "stdout",
     "output_type": "stream",
     "text": [
      "[[2169  640  415 1090  536]\n",
      " [ 644 2158  728  616  694]\n",
      " [ 519  839 1844  573  985]\n",
      " [1023  621  503 2022  570]\n",
      " [ 710  936 1101  709 1403]]\n"
     ]
    }
   ],
   "source": [
    "print(metrics.confusion_matrix(test_y, preds_rfc))"
   ]
  },
  {
   "cell_type": "code",
   "execution_count": 52,
   "metadata": {
    "collapsed": false
   },
   "outputs": [],
   "source": [
    "# Export Test_x as SQL Database to Query on Webapp\n",
    "col3 = test_x.columns\n",
    "DataSQL = pd.DataFrame(data=test_x, columns=col3)\n",
    "DataSQL.to_csv('DataSQL.csv')"
   ]
  },
  {
   "cell_type": "code",
   "execution_count": 51,
   "metadata": {
    "collapsed": false
   },
   "outputs": [
    {
     "data": {
      "text/plain": [
       "(24048, 34)"
      ]
     },
     "execution_count": 51,
     "metadata": {},
     "output_type": "execute_result"
    }
   ],
   "source": [
    "DataSQL.shape"
   ]
  },
  {
   "cell_type": "code",
   "execution_count": 33,
   "metadata": {
    "collapsed": false
   },
   "outputs": [
    {
     "name": "stdout",
     "output_type": "stream",
     "text": [
      "[ 0.61867484  0.02953058  0.17624867  0.01229164  0.01213363  0.0055966\n",
      "  0.00949146  0.00540427  0.00728287  0.00527928  0.01471545  0.00693189\n",
      "  0.0084762   0.01503641  0.00786327  0.01237685  0.00996075  0.02874716\n",
      "  0.01395819]\n"
     ]
    }
   ],
   "source": [
    "# Feature Importance Plot\n",
    "importances = rfc.feature_importances_\n",
    "print importances"
   ]
  },
  {
   "cell_type": "code",
   "execution_count": 37,
   "metadata": {
    "collapsed": false
   },
   "outputs": [
    {
     "name": "stdout",
     "output_type": "stream",
     "text": [
      "[ 0  2  1 17 13 10 18 15  3  4 16  6 12 14  8 11  5  7  9]\n"
     ]
    }
   ],
   "source": [
    "std = np.std([tree.feature_importances_ for tree in rfc.estimators_],axis=0)\n",
    "indices = np.argsort(importances)[::-1]\n",
    "print indices"
   ]
  },
  {
   "cell_type": "code",
   "execution_count": null,
   "metadata": {
    "collapsed": false
   },
   "outputs": [],
   "source": [
    "print(\"Feature ranking:\")\n",
    "\n",
    "for f in range(train_x.shape[1]):\n",
    "    print(\"%d. feature %d %f\" % (f + 1, indices[f], importances[indices[f]]))"
   ]
  },
  {
   "cell_type": "code",
   "execution_count": null,
   "metadata": {
    "collapsed": true
   },
   "outputs": [],
   "source": [
    "# Plot the feature importances of the forest\n",
    "plt.figure()\n",
    "plt.title(\"Feature importances\")\n",
    "plt.bar(range(train_x.shape[1]), importances[indices],\n",
    "       color=\"r\", yerr=std[indices], align=\"center\")\n",
    "plt.xticks(range(train_x.shape[1]), indices)\n",
    "plt.xlim([-1, train_x.shape[1]])\n",
    "plt.show()"
   ]
  },
  {
   "cell_type": "code",
   "execution_count": null,
   "metadata": {
    "collapsed": true
   },
   "outputs": [],
   "source": []
  }
 ],
 "metadata": {
  "anaconda-cloud": {},
  "kernelspec": {
   "display_name": "Python [Root]",
   "language": "python",
   "name": "Python [Root]"
  },
  "language_info": {
   "codemirror_mode": {
    "name": "ipython",
    "version": 2
   },
   "file_extension": ".py",
   "mimetype": "text/x-python",
   "name": "python",
   "nbconvert_exporter": "python",
   "pygments_lexer": "ipython2",
   "version": "2.7.12"
  }
 },
 "nbformat": 4,
 "nbformat_minor": 0
}
